{
 "cells": [
  {
   "cell_type": "code",
   "execution_count": 1,
   "metadata": {},
   "outputs": [],
   "source": [
    "import sys, os\n",
    "\n",
    "ILU_HOME = \"../../..\"\n",
    "\n",
    "sys.path.append(os.path.join(ILU_HOME, \"..\"))\n",
    "from load.run.run_trace import rust_build, run_live, RunTarget, BuildTarget, LOCALHOST_Q"
   ]
  },
  {
   "cell_type": "code",
   "execution_count": null,
   "metadata": {},
   "outputs": [],
   "source": [
    "CORES = 2\n",
    "MEMORY = 4096\n",
    "build_level = BuildTarget.RELEASE\n",
    "worker_log_dir = os.path.join(os.getcwd(), \"temp_results\")\n",
    "results_dir = os.path.join(os.getcwd(), \"results\")\n",
    "benchmark = \"../benchmark/worker_function_benchmarks.json\"\n",
    "ansible_dir = os.path.join(ILU_HOME, \"ansible\")\n",
    "\n",
    "kwargs = {\n",
    "    \"ilu_home\": ILU_HOME,\n",
    "    \"ansible_hosts_addrs\": \"@\"\n",
    "    + os.path.join(ansible_dir, \"group_vars/local_addresses.yml\"),\n",
    "    \"ansible_dir\": ansible_dir,\n",
    "    \"build_level\": build_level,\n",
    "    \"cores\": CORES,\n",
    "    \"memory\": MEMORY,\n",
    "    \"worker_status_ms\": 500,\n",
    "    \"worker_log_dir\": worker_log_dir,\n",
    "    \"cpu_queue_policy\": \"fcfs\",\n",
    "    \"target\": RunTarget.WORKER,\n",
    "    \"prewarm\": 1,\n",
    "    \"snapshotter\": \"overlayfs\",\n",
    "    \"benchmark_file\": benchmark,\n",
    "    # \"force\": True,\n",
    "    \"enqueuing_log_details\": True,\n",
    "}\n",
    "\n",
    "input_csv = \"./in.csv\"\n",
    "meta_csv = \"./meta.csv\""
   ]
  },
  {
   "cell_type": "code",
   "execution_count": 0,
   "metadata": {},
   "outputs": [],
   "source": [
    "os.makedirs(results_dir, exist_ok=True)\n",
    "os.makedirs(worker_log_dir, exist_ok=True)\n",
    "# build the solution\n",
    "rust_build(ILU_HOME, None, build_level)"
   ]
  },
  {
   "cell_type": "code",
   "execution_count": 0,
   "metadata": {},
   "outputs": [],
   "source": [
    "# run entire experiment\n",
    "run_live(input_csv, meta_csv, results_dir, LOCALHOST_Q, **kwargs)"
   ]
  },
  {
   "cell_type": "code",
   "execution_count": null,
   "metadata": {},
   "outputs": [
    {
     "name": "stdout",
     "output_type": "stream",
     "text": [
      "Index(['success', 'function_name', 'was_cold', 'worker_duration_us',\n",
      "       'code_duration_sec', 'e2e_duration_us', 'compute', 'state',\n",
      "       'invoke_sent', 'invoke_return', 'queueing_sec', 'insert', 'remove',\n",
      "       'queue_exec_sec', 'cpu_est_sec', 'gpu_est_sec', 'insert_cpu_load',\n",
      "       'insert_gpu_load', 'est_sec_diff', 'start', 'end', 'e2e_overhead',\n",
      "       'exec_overhead', 'norm_e2e', 'e2e_overhead_portion', 'e2e_sec',\n",
      "       'queue_portion', 'exec_overhead_norm', 'e2e_portion',\n",
      "       'e2e_norm_portion'],\n",
      "      dtype='object')\n",
      "count    9.000000\n",
      "mean    -0.350474\n",
      "std      0.329108\n",
      "min     -0.816333\n",
      "25%     -0.649679\n",
      "50%     -0.258293\n",
      "75%     -0.000487\n",
      "max     -0.000070\n",
      "Name: est_sec_diff, dtype: float64\n",
      "       cold_dur_ms  warm_dur_ms  mem_mb  prewarms  avg_iat  iat_class\n",
      "count          2.0          2.0     2.0  2.000000     2.00        2.0\n",
      "mean        5000.0        500.0   512.0  1.500000  2499.75        0.0\n",
      "std            0.0          0.0     0.0  0.707107     0.00        0.0\n",
      "min         5000.0        500.0   512.0  1.000000  2499.75        0.0\n",
      "25%         5000.0        500.0   512.0  1.250000  2499.75        0.0\n",
      "50%         5000.0        500.0   512.0  1.500000  2499.75        0.0\n",
      "75%         5000.0        500.0   512.0  1.750000  2499.75        0.0\n",
      "max         5000.0        500.0   512.0  2.000000  2499.75        0.0\n"
     ]
    },
    {
     "data": {
      "image/png": "[encoded data removed]",
      "text/plain": [
       "<Figure size 500x300 with 1 Axes>"
      ]
     },
     "metadata": {},
     "output_type": "display_data"
    },
    {
     "data": {
      "text/plain": [
       "<Figure size 640x480 with 0 Axes>"
      ]
     },
     "metadata": {},
     "output_type": "display_data"
    }
   ],
   "source": [
    "## plot some results\n",
    "from load.analysis import WorkerLogParser\n",
    "from load.run.run_trace import RunTarget, RunType\n",
    "import matplotlib as mpl\n",
    "import matplotlib.pyplot as plt\n",
    "\n",
    "mpl.rcParams.update({\"font.size\": 14})\n",
    "mpl.rcParams[\"pdf.fonttype\"] = 42\n",
    "mpl.rcParams[\"ps.fonttype\"] = 42\n",
    "\n",
    "\n",
    "parser = WorkerLogParser(\n",
    "    results_dir, input_csv, meta_csv, benchmark, RunType.LIVE, RunTarget.WORKER\n",
    ")\n",
    "parser.parse_logs(fail_if_errors=False)\n",
    "print(parser.invokes_df.columns)\n",
    "print(parser.invokes_df[\"est_sec_diff\"].describe())\n",
    "print(parser.metadata_df.describe())\n",
    "\n",
    "fig, ax = plt.subplots()\n",
    "plt.tight_layout()\n",
    "fig.set_size_inches(5, 3)\n",
    "\n",
    "labels = []\n",
    "for i, (func, df) in enumerate(parser.invokes_df.groupby(\"function_name\")):\n",
    "    ax.bar(i, height=len(df[~df[\"was_cold\"]]) / len(df))\n",
    "    labels.append(func)\n",
    "\n",
    "\n",
    "ax.set_xticks(list(range(len(labels))))\n",
    "ax.set_xticklabels(labels)\n",
    "ax.set_ylabel(\"Warm Hit %\")\n",
    "ax.set_xlabel(\"Function Name\")\n",
    "plt.show()\n",
    "plt.savefig(os.path.join(results_dir, \"warm_hits.png\"), bbox_inches=\"tight\")\n",
    "plt.close(fig)\n"
   ]
  }
 ],
 "metadata": {
  "kernelspec": {
   "display_name": "Python 3",
   "language": "python",
   "name": "python3"
  },
  "language_info": {
   "codemirror_mode": {
    "name": "ipython",
    "version": 3
   },
   "file_extension": ".py",
   "mimetype": "text/x-python",
   "name": "python",
   "nbconvert_exporter": "python",
   "pygments_lexer": "ipython3",
   "version": "3.10.12"
  }
 },
 "nbformat": 4,
 "nbformat_minor": 2
}
